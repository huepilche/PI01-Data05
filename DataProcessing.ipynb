{
 "cells": [
  {
   "cell_type": "code",
   "execution_count": 2,
   "metadata": {},
   "outputs": [],
   "source": [
    "import pandas as pd\n",
    "import numpy as np\n",
    "import sqlite3\n",
    "import sqlalchemy\n",
    "from sqlalchemy import create_engine"
   ]
  },
  {
   "cell_type": "code",
   "execution_count": 4,
   "metadata": {},
   "outputs": [],
   "source": [
    "#ingestamos datasets\n",
    "\n",
    "Amazon = pd.read_csv('Datasets/amazon_prime_titles.csv') #9668 registros\n",
    "Disney = pd.read_csv('Datasets/disney_plus_titles.csv') #1450 registros\n",
    "Hulu = pd.read_csv('Datasets/hulu_titles.csv') #3073 registros\n",
    "Netflix = pd.read_json('Datasets/netflix_titles.json') #8807 registros"
   ]
  },
  {
   "cell_type": "code",
   "execution_count": 5,
   "metadata": {},
   "outputs": [],
   "source": [
    "#insertamos columna con la plataformas correspondientes\n",
    "\n",
    "Amazon['Platform'] = 'Amazon'\n",
    "Disney['Platform'] = 'Disney'\n",
    "Hulu['Platform'] = 'Hulu'\n",
    "Netflix['Platform'] = 'Netflix'"
   ]
  },
  {
   "cell_type": "code",
   "execution_count": 6,
   "metadata": {},
   "outputs": [],
   "source": [
    "#Construimos dataset con todas las plataformas\n",
    "Total_Data = pd.concat([Amazon, Disney, Hulu, Netflix])\n",
    "Total_Data.reset_index(drop=True, inplace=True)"
   ]
  },
  {
   "cell_type": "code",
   "execution_count": 7,
   "metadata": {},
   "outputs": [
    {
     "name": "stdout",
     "output_type": "stream",
     "text": [
      "<class 'pandas.core.frame.DataFrame'>\n",
      "RangeIndex: 22998 entries, 0 to 22997\n",
      "Data columns (total 13 columns):\n",
      " #   Column        Non-Null Count  Dtype \n",
      "---  ------        --------------  ----- \n",
      " 0   show_id       22998 non-null  object\n",
      " 1   type          22998 non-null  object\n",
      " 2   title         22998 non-null  object\n",
      " 3   director      14739 non-null  object\n",
      " 4   cast          17677 non-null  object\n",
      " 5   country       11499 non-null  object\n",
      " 6   date_added    13444 non-null  object\n",
      " 7   release_year  22998 non-null  int64 \n",
      " 8   rating        22134 non-null  object\n",
      " 9   duration      22516 non-null  object\n",
      " 10  listed_in     22998 non-null  object\n",
      " 11  description   22994 non-null  object\n",
      " 12  Platform      22998 non-null  object\n",
      "dtypes: int64(1), object(12)\n",
      "memory usage: 2.3+ MB\n"
     ]
    }
   ],
   "source": [
    "Total_Data.info()"
   ]
  },
  {
   "cell_type": "code",
   "execution_count": 9,
   "metadata": {},
   "outputs": [],
   "source": [
    "#Eliminamos columnas que no necesitaremos para la consigna requerida\n",
    "DF = Total_Data.drop(['show_id', 'country', 'director', 'date_added', 'rating', 'description'], axis=1)"
   ]
  },
  {
   "cell_type": "code",
   "execution_count": 10,
   "metadata": {},
   "outputs": [],
   "source": [
    "#convertimos el tipo de dato de la columna 'duration' a datos numericos\n",
    "DF['duration'] = DF['duration'].str.replace('min' , '')\n",
    "DF['duration'] = DF['duration'].str.replace('Seasons' , '')\n",
    "DF['duration'] = DF['duration'].str.replace('Season' , '')\n",
    "DF['duration'] = pd.to_numeric(DF['duration'])\n"
   ]
  },
  {
   "cell_type": "code",
   "execution_count": 114,
   "metadata": {},
   "outputs": [
    {
     "data": {
      "text/plain": [
       "'The House That Jack Built'"
      ]
     },
     "execution_count": 114,
     "metadata": {},
     "output_type": "execute_result"
    }
   ],
   "source": [
    "# consulta de prueba n°1\n",
    "Filtro = (DF['Platform'] == 'Hulu') & (DF['release_year'] == 2018) & (DF['type'] == 'Movie')\n",
    "elemento = DF[Filtro]['duration'].idxmax()\n",
    "DF.loc[elemento,'title']"
   ]
  },
  {
   "cell_type": "code",
   "execution_count": 106,
   "metadata": {},
   "outputs": [
    {
     "name": "stdout",
     "output_type": "stream",
     "text": [
      "6131 2676\n"
     ]
    }
   ],
   "source": [
    "# consulta de prueba n°2\n",
    "condicion = (DF['Platform']=='Netflix')\n",
    "Nro_Movies = DF[condicion]['type'].str.contains(pat = 'Movie').sum()\n",
    "Nro_TVShows = DF[condicion]['type'].str.contains(pat ='TV Show').sum()\n",
    "print(Nro_Movies,Nro_TVShows)"
   ]
  },
  {
   "cell_type": "code",
   "execution_count": 68,
   "metadata": {},
   "outputs": [
    {
     "name": "stdout",
     "output_type": "stream",
     "text": [
      "Platform\n",
      "Amazon     2099\n",
      "Disney      526\n",
      "Hulu        667\n",
      "Netflix     399\n",
      "Name: listed_in, dtype: int64\n"
     ]
    }
   ],
   "source": [
    "#Consulta de prueba n°3\n",
    "Filtro = DF['listed_in'].str.contains('Comedy')\n",
    "Nro_Comedias = DF[Filtro].groupby('Platform')['listed_in'].count()\n",
    "print(Nro_Comedias)"
   ]
  },
  {
   "cell_type": "code",
   "execution_count": 125,
   "metadata": {},
   "outputs": [
    {
     "data": {
      "text/plain": [
       " Andrea Libman        8\n",
       " Rupa Bhimani         6\n",
       " Vincent Tong         6\n",
       " Jigna Bharadhwaj     6\n",
       " Takahiro Sakurai     6\n",
       "                     ..\n",
       " T.J. Miller          1\n",
       " Beau Knapp           1\n",
       " Géraldine Pailhas    1\n",
       " Richard Alan Reid    1\n",
       " Tom Holland          1\n",
       "Length: 6825, dtype: int64"
      ]
     },
     "execution_count": 125,
     "metadata": {},
     "output_type": "execute_result"
    }
   ],
   "source": [
    "#Consulta de prueba n°4\n",
    "\n",
    "condicion = (DF['Platform']=='Netflix') & (DF['release_year']==2018) \n",
    "actores = DF[condicion]['cast'].str.split(pat =',', expand=True)\n",
    "union = pd.concat(objs = [actores[i] for i in range(len(actores.columns))], ignore_index = True)\n",
    "union.value_counts()"
   ]
  },
  {
   "cell_type": "code",
   "execution_count": 101,
   "metadata": {},
   "outputs": [
    {
     "data": {
      "text/plain": [
       "22998"
      ]
     },
     "execution_count": 101,
     "metadata": {},
     "output_type": "execute_result"
    }
   ],
   "source": [
    "#Generamos Base de Datos\n",
    "\n",
    "engine =sqlalchemy.create_engine('sqlite:///Datasets/filmes.db')\n",
    "TD_1.to_sql(name='filmes', con = engine) \n"
   ]
  },
  {
   "cell_type": "code",
   "execution_count": 102,
   "metadata": {},
   "outputs": [
    {
     "data": {
      "text/html": [
       "<div>\n",
       "<style scoped>\n",
       "    .dataframe tbody tr th:only-of-type {\n",
       "        vertical-align: middle;\n",
       "    }\n",
       "\n",
       "    .dataframe tbody tr th {\n",
       "        vertical-align: top;\n",
       "    }\n",
       "\n",
       "    .dataframe thead th {\n",
       "        text-align: right;\n",
       "    }\n",
       "</style>\n",
       "<table border=\"1\" class=\"dataframe\">\n",
       "  <thead>\n",
       "    <tr style=\"text-align: right;\">\n",
       "      <th></th>\n",
       "      <th>index</th>\n",
       "      <th>type</th>\n",
       "      <th>title</th>\n",
       "      <th>cast</th>\n",
       "      <th>release_year</th>\n",
       "      <th>duration</th>\n",
       "      <th>listed_in</th>\n",
       "      <th>Platform</th>\n",
       "    </tr>\n",
       "  </thead>\n",
       "  <tbody>\n",
       "    <tr>\n",
       "      <th>0</th>\n",
       "      <td>0</td>\n",
       "      <td>Movie</td>\n",
       "      <td>The Grand Seduction</td>\n",
       "      <td>Brendan Gleeson, Taylor Kitsch, Gordon Pinsent</td>\n",
       "      <td>2014</td>\n",
       "      <td>113.0</td>\n",
       "      <td>Comedy, Drama</td>\n",
       "      <td>Amazon</td>\n",
       "    </tr>\n",
       "    <tr>\n",
       "      <th>1</th>\n",
       "      <td>1</td>\n",
       "      <td>Movie</td>\n",
       "      <td>Take Care Good Night</td>\n",
       "      <td>Mahesh Manjrekar, Abhay Mahajan, Sachin Khedekar</td>\n",
       "      <td>2018</td>\n",
       "      <td>110.0</td>\n",
       "      <td>Drama, International</td>\n",
       "      <td>Amazon</td>\n",
       "    </tr>\n",
       "    <tr>\n",
       "      <th>2</th>\n",
       "      <td>2</td>\n",
       "      <td>Movie</td>\n",
       "      <td>Secrets of Deception</td>\n",
       "      <td>Tom Sizemore, Lorenzo Lamas, Robert LaSardo, R...</td>\n",
       "      <td>2017</td>\n",
       "      <td>74.0</td>\n",
       "      <td>Action, Drama, Suspense</td>\n",
       "      <td>Amazon</td>\n",
       "    </tr>\n",
       "    <tr>\n",
       "      <th>3</th>\n",
       "      <td>3</td>\n",
       "      <td>Movie</td>\n",
       "      <td>Pink: Staying True</td>\n",
       "      <td>Interviews with: Pink, Adele, Beyoncé, Britney...</td>\n",
       "      <td>2014</td>\n",
       "      <td>69.0</td>\n",
       "      <td>Documentary</td>\n",
       "      <td>Amazon</td>\n",
       "    </tr>\n",
       "    <tr>\n",
       "      <th>4</th>\n",
       "      <td>4</td>\n",
       "      <td>Movie</td>\n",
       "      <td>Monster Maker</td>\n",
       "      <td>Harry Dean Stanton, Kieran O'Brien, George Cos...</td>\n",
       "      <td>1989</td>\n",
       "      <td>45.0</td>\n",
       "      <td>Drama, Fantasy</td>\n",
       "      <td>Amazon</td>\n",
       "    </tr>\n",
       "    <tr>\n",
       "      <th>...</th>\n",
       "      <td>...</td>\n",
       "      <td>...</td>\n",
       "      <td>...</td>\n",
       "      <td>...</td>\n",
       "      <td>...</td>\n",
       "      <td>...</td>\n",
       "      <td>...</td>\n",
       "      <td>...</td>\n",
       "    </tr>\n",
       "    <tr>\n",
       "      <th>22993</th>\n",
       "      <td>22993</td>\n",
       "      <td>Movie</td>\n",
       "      <td>Zodiac</td>\n",
       "      <td>Mark Ruffalo, Jake Gyllenhaal, Robert Downey J...</td>\n",
       "      <td>2007</td>\n",
       "      <td>158.0</td>\n",
       "      <td>Cult Movies, Dramas, Thrillers</td>\n",
       "      <td>Netflix</td>\n",
       "    </tr>\n",
       "    <tr>\n",
       "      <th>22994</th>\n",
       "      <td>22994</td>\n",
       "      <td>TV Show</td>\n",
       "      <td>Zombie Dumb</td>\n",
       "      <td>None</td>\n",
       "      <td>2018</td>\n",
       "      <td>2.0</td>\n",
       "      <td>Kids' TV, Korean TV Shows, TV Comedies</td>\n",
       "      <td>Netflix</td>\n",
       "    </tr>\n",
       "    <tr>\n",
       "      <th>22995</th>\n",
       "      <td>22995</td>\n",
       "      <td>Movie</td>\n",
       "      <td>Zombieland</td>\n",
       "      <td>Jesse Eisenberg, Woody Harrelson, Emma Stone, ...</td>\n",
       "      <td>2009</td>\n",
       "      <td>88.0</td>\n",
       "      <td>Comedies, Horror Movies</td>\n",
       "      <td>Netflix</td>\n",
       "    </tr>\n",
       "    <tr>\n",
       "      <th>22996</th>\n",
       "      <td>22996</td>\n",
       "      <td>Movie</td>\n",
       "      <td>Zoom</td>\n",
       "      <td>Tim Allen, Courteney Cox, Chevy Chase, Kate Ma...</td>\n",
       "      <td>2006</td>\n",
       "      <td>88.0</td>\n",
       "      <td>Children &amp; Family Movies, Comedies</td>\n",
       "      <td>Netflix</td>\n",
       "    </tr>\n",
       "    <tr>\n",
       "      <th>22997</th>\n",
       "      <td>22997</td>\n",
       "      <td>Movie</td>\n",
       "      <td>Zubaan</td>\n",
       "      <td>Vicky Kaushal, Sarah-Jane Dias, Raaghav Chanan...</td>\n",
       "      <td>2015</td>\n",
       "      <td>111.0</td>\n",
       "      <td>Dramas, International Movies, Music &amp; Musicals</td>\n",
       "      <td>Netflix</td>\n",
       "    </tr>\n",
       "  </tbody>\n",
       "</table>\n",
       "<p>22998 rows × 8 columns</p>\n",
       "</div>"
      ],
      "text/plain": [
       "       index     type                 title  \\\n",
       "0          0    Movie   The Grand Seduction   \n",
       "1          1    Movie  Take Care Good Night   \n",
       "2          2    Movie  Secrets of Deception   \n",
       "3          3    Movie    Pink: Staying True   \n",
       "4          4    Movie         Monster Maker   \n",
       "...      ...      ...                   ...   \n",
       "22993  22993    Movie                Zodiac   \n",
       "22994  22994  TV Show           Zombie Dumb   \n",
       "22995  22995    Movie            Zombieland   \n",
       "22996  22996    Movie                  Zoom   \n",
       "22997  22997    Movie                Zubaan   \n",
       "\n",
       "                                                    cast  release_year  \\\n",
       "0         Brendan Gleeson, Taylor Kitsch, Gordon Pinsent          2014   \n",
       "1       Mahesh Manjrekar, Abhay Mahajan, Sachin Khedekar          2018   \n",
       "2      Tom Sizemore, Lorenzo Lamas, Robert LaSardo, R...          2017   \n",
       "3      Interviews with: Pink, Adele, Beyoncé, Britney...          2014   \n",
       "4      Harry Dean Stanton, Kieran O'Brien, George Cos...          1989   \n",
       "...                                                  ...           ...   \n",
       "22993  Mark Ruffalo, Jake Gyllenhaal, Robert Downey J...          2007   \n",
       "22994                                               None          2018   \n",
       "22995  Jesse Eisenberg, Woody Harrelson, Emma Stone, ...          2009   \n",
       "22996  Tim Allen, Courteney Cox, Chevy Chase, Kate Ma...          2006   \n",
       "22997  Vicky Kaushal, Sarah-Jane Dias, Raaghav Chanan...          2015   \n",
       "\n",
       "       duration                                       listed_in Platform  \n",
       "0         113.0                                   Comedy, Drama   Amazon  \n",
       "1         110.0                            Drama, International   Amazon  \n",
       "2          74.0                         Action, Drama, Suspense   Amazon  \n",
       "3          69.0                                     Documentary   Amazon  \n",
       "4          45.0                                  Drama, Fantasy   Amazon  \n",
       "...         ...                                             ...      ...  \n",
       "22993     158.0                  Cult Movies, Dramas, Thrillers  Netflix  \n",
       "22994       2.0          Kids' TV, Korean TV Shows, TV Comedies  Netflix  \n",
       "22995      88.0                         Comedies, Horror Movies  Netflix  \n",
       "22996      88.0              Children & Family Movies, Comedies  Netflix  \n",
       "22997     111.0  Dramas, International Movies, Music & Musicals  Netflix  \n",
       "\n",
       "[22998 rows x 8 columns]"
      ]
     },
     "execution_count": 102,
     "metadata": {},
     "output_type": "execute_result"
    }
   ],
   "source": [
    "#Verificamos la lectura del DF a partir de la base de datos\n",
    "pd.read_sql('filmes', engine)"
   ]
  },
  {
   "attachments": {},
   "cell_type": "markdown",
   "metadata": {},
   "source": [
    "La consigna no contempla la implementación de un modelo de ML, sino solamente la realización de consultas, por lo que se decide no eliminar registros con datos faltantes."
   ]
  }
 ],
 "metadata": {
  "kernelspec": {
   "display_name": "Python 3.10.5 64-bit",
   "language": "python",
   "name": "python3"
  },
  "language_info": {
   "codemirror_mode": {
    "name": "ipython",
    "version": 3
   },
   "file_extension": ".py",
   "mimetype": "text/x-python",
   "name": "python",
   "nbconvert_exporter": "python",
   "pygments_lexer": "ipython3",
   "version": "3.10.5"
  },
  "orig_nbformat": 4,
  "vscode": {
   "interpreter": {
    "hash": "a9cff5a362bc38ef45d817ae74b1af54d6a076e3d773891282bce078b815ba34"
   }
  }
 },
 "nbformat": 4,
 "nbformat_minor": 2
}
